{
  "cells": [
    {
      "cell_type": "code",
      "execution_count": null,
      "metadata": {
        "colab": {
          "base_uri": "https://localhost:8080/"
        },
        "id": "DSZ35LQDjf3z",
        "outputId": "e08c92c9-5da2-4df9-92e5-4667f25e8ca0"
      },
      "outputs": [],
      "source": [
        "!gdown "
      ]
    },
    {
      "cell_type": "code",
      "execution_count": null,
      "metadata": {
        "colab": {
          "base_uri": "https://localhost:8080/"
        },
        "id": "KEEAHakMjmjL",
        "outputId": "98d453d7-dd77-4393-8a96-e5d7bcdd22f2"
      },
      "outputs": [],
      "source": [
        "!gdown \n",
        "!unzip /content/CogentScanner.zip"
      ]
    },
    {
      "cell_type": "code",
      "execution_count": null,
      "metadata": {
        "colab": {
          "base_uri": "https://localhost:8080/"
        },
        "id": "Wujr5wdfjrYM",
        "outputId": "a9ccbe9b-6766-45e9-fa0e-2631131cca02"
      },
      "outputs": [
        {
          "name": "stdout",
          "output_type": "stream",
          "text": [
            "Found GPU at: /device:GPU:0\n"
          ]
        },
        {
          "data": {
            "text/plain": [
              "<tensorflow.python.eager.context._EagerDeviceContext at 0x79f054d0b440>"
            ]
          },
          "execution_count": 3,
          "metadata": {},
          "output_type": "execute_result"
        }
      ],
      "source": [
        "import tensorflow as tf\n",
        "from tensorflow import keras\n",
        "import numpy as np\n",
        "import csv\n",
        "import pandas as pd\n",
        "import os\n",
        "from tensorflow.keras.preprocessing.image import load_img, img_to_array\n",
        "\n",
        "device_name = tf.test.gpu_device_name()\n",
        "if device_name != '/device:GPU:0':\n",
        "  raise SystemError('GPU device not found')\n",
        "print('Found GPU at: {}'.format(device_name))\n",
        "tf.device('/device:GPU:0')"
      ]
    },
    {
      "cell_type": "code",
      "execution_count": null,
      "metadata": {
        "id": "eQBMiiBbjtDN"
      },
      "outputs": [],
      "source": [
        "def mapped_labels(labels, colors, gender, black_white):\n",
        "    labels_to_lens = {'Colored': 0, 'Normal': 1, 'Transparent': 2}\n",
        "    lens_colors_types = {\"Gray\": 0, \"Hazel\": 1, \"Green\": 2, \"Blue\": 3}\n",
        "    gender_types = {\"Male\": 0, \"Female\": 1}\n",
        "    black_white_types = {\"No\": 0, \"Yes\": 1}\n",
        "\n",
        "\n",
        "    labels = float(labels_to_lens[labels])\n",
        "    gender = float(gender_types[gender])\n",
        "    black_white = float(black_white_types[black_white])\n",
        "    colors = float(lens_colors_types[colors])\n",
        "\n",
        "    return labels, gender, black_white, colors"
      ]
    },
    {
      "cell_type": "code",
      "execution_count": null,
      "metadata": {
        "id": "2XQep9wQjuSh"
      },
      "outputs": [],
      "source": [
        "def read_csv(train_test, number_of_itens = -1):\n",
        "    data_labels = []\n",
        "    imgs = []\n",
        "\n",
        "    csvreader = None\n",
        "    with open(f\"/content/CogentAnnotation{train_test}.csv\", \"r\") as file:\n",
        "        csvreader = csv.reader(file)\n",
        "        csvreader = list(csvreader)\n",
        "\n",
        "    csvreader.pop(0)\n",
        "    csvreader = np.array(csvreader)\n",
        "    np.random.shuffle(csvreader)\n",
        "\n",
        "    for row in csvreader:\n",
        "        labels, gender, black_white, colors = mapped_labels(row[1], row[3], row[4], row[5])\n",
        "\n",
        "        img_path = \"/content/\" + row[0].replace(\"&\", \"_\") + \".bmp\"\n",
        "        img = img_to_array(load_img(img_path, target_size=(300,300))) / 255.\n",
        "        imgs.append(img)\n",
        "\n",
        "        data_labels.append([labels, colors, black_white, gender, row[6], row[7], row[8], row[9], row[10],row[11]])\n",
        "\n",
        "\n",
        "    data_labels = (np.array(data_labels)).astype(np.float32)\n",
        "    return data_labels.T, np.array(imgs)\n",
        "\n",
        "treino_labels, treino_imgs = read_csv(\"Test\")"
      ]
    },
    {
      "cell_type": "code",
      "execution_count": null,
      "metadata": {
        "colab": {
          "base_uri": "https://localhost:8080/"
        },
        "id": "W4sdKqfHjwkp",
        "outputId": "871d0994-4cd8-4b21-e898-36b560cbe976"
      },
      "outputs": [
        {
          "name": "stdout",
          "output_type": "stream",
          "text": [
            "Downloading data from https://storage.googleapis.com/keras-applications/efficientnetb3_notop.h5\n",
            "43941136/43941136 [==============================] - 2s 0us/step\n"
          ]
        }
      ],
      "source": [
        "from tensorflow.keras.applications import EfficientNetB3\n",
        "from tensorflow.keras.models import Sequential\n",
        "from tensorflow.keras.layers import Dense, GlobalAveragePooling2D, Dropout, Activation, Flatten, BatchNormalization, Rescaling, Input\n",
        "from tensorflow.keras.models import Model\n",
        "from tensorflow.keras.optimizers import Adam\n",
        "from tensorflow.keras.losses import SparseCategoricalCrossentropy, BinaryCrossentropy\n",
        "\n",
        "#Modelo base\n",
        "input = Input(shape=(300,300,3))\n",
        "rescaling = Rescaling(scale=1./255)(input) #1\n",
        "base_model = EfficientNetB3(input_shape=(300,300,3), include_top=False)\n",
        "base_model.trainable = True\n",
        "model = base_model(rescaling, training=True) #2\n",
        "batch = BatchNormalization()(model) #3\n",
        "globalPooling = GlobalAveragePooling2D()(batch) #4\n",
        "\n",
        "#Camada densa 1\n",
        "dropout = Dropout(0.145)(globalPooling)\n",
        "dense1 = Dense(1536, activation='relu')(dropout)\n",
        "\n",
        "#Camada densa 2\n",
        "dropout1 = Dropout(0.1)(dense1)\n",
        "dense2 = Dense(512, activation='relu')(dropout1)\n",
        "\n",
        "#Predicao do modelo\n",
        "prediction = Dense(3, activation='softmax')(dense2)\n",
        "\n",
        "\n",
        "new_model = Model(input, prediction)\n",
        "new_model.compile(optimizer=Adam(learning_rate=0.001), loss = SparseCategoricalCrossentropy(), metrics=['accuracy'])\n"
      ]
    },
    {
      "cell_type": "code",
      "execution_count": null,
      "metadata": {
        "colab": {
          "base_uri": "https://localhost:8080/"
        },
        "id": "EDczl3tfj3gB",
        "outputId": "6c77985d-b9f4-43f4-8496-981863de844e"
      },
      "outputs": [
        {
          "name": "stdout",
          "output_type": "stream",
          "text": [
            "Epoch 1/10\n",
            "39/39 [==============================] - 124s 1s/step - loss: 0.7496 - accuracy: 0.6034 - val_loss: 0.6814 - val_accuracy: 0.5939\n",
            "Epoch 2/10\n",
            "39/39 [==============================] - 41s 1s/step - loss: 0.5791 - accuracy: 0.6906 - val_loss: 0.6646 - val_accuracy: 0.6338\n",
            "Epoch 3/10\n",
            "39/39 [==============================] - 40s 1s/step - loss: 0.5621 - accuracy: 0.7028 - val_loss: 0.6179 - val_accuracy: 0.6812\n",
            "Epoch 4/10\n",
            "39/39 [==============================] - 41s 1s/step - loss: 0.4802 - accuracy: 0.7679 - val_loss: 0.5045 - val_accuracy: 0.7419\n",
            "Epoch 5/10\n",
            "39/39 [==============================] - 41s 1s/step - loss: 0.4035 - accuracy: 0.8331 - val_loss: 0.3799 - val_accuracy: 0.8235\n",
            "Epoch 6/10\n",
            "39/39 [==============================] - 41s 1s/step - loss: 0.2835 - accuracy: 0.8836 - val_loss: 0.4073 - val_accuracy: 0.8273\n",
            "Epoch 7/10\n",
            "39/39 [==============================] - 41s 1s/step - loss: 0.2364 - accuracy: 0.9104 - val_loss: 0.3712 - val_accuracy: 0.8425\n",
            "Epoch 8/10\n",
            "39/39 [==============================] - 41s 1s/step - loss: 0.1922 - accuracy: 0.9251 - val_loss: 0.4348 - val_accuracy: 0.8596\n",
            "Epoch 9/10\n",
            "39/39 [==============================] - 41s 1s/step - loss: 0.1746 - accuracy: 0.9389 - val_loss: 0.3608 - val_accuracy: 0.8767\n",
            "Epoch 10/10\n",
            "39/39 [==============================] - 41s 1s/step - loss: 0.1746 - accuracy: 0.9283 - val_loss: 0.4243 - val_accuracy: 0.8653\n"
          ]
        }
      ],
      "source": [
        "history = new_model.fit(treino_imgs, treino_labels[0], epochs=10, batch_size=32, validation_split=0.3)"
      ]
    }
  ],
  "metadata": {
    "accelerator": "GPU",
    "colab": {
      "gpuType": "T4",
      "provenance": []
    },
    "kernelspec": {
      "display_name": "Python 3",
      "name": "python3"
    },
    "language_info": {
      "name": "python"
    }
  },
  "nbformat": 4,
  "nbformat_minor": 0
}
