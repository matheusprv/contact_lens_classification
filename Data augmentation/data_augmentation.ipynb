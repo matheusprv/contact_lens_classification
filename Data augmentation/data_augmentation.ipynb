{
 "cells": [
  {
   "cell_type": "code",
   "execution_count": 137,
   "metadata": {},
   "outputs": [],
   "source": [
    "import numpy as np \n",
    "import os\n",
    "import matplotlib\n",
    "from PIL import Image, ImageOps\n",
    "import random\n",
    "import cv2\n",
    "import csv"
   ]
  },
  {
   "cell_type": "code",
   "execution_count": 47,
   "metadata": {},
   "outputs": [
    {
     "name": "stdout",
     "output_type": "stream",
     "text": [
      "D:\\Datasets\\ND-Contact-Lens\\LG4000\\images\\04261d1016.tiff\n"
     ]
    }
   ],
   "source": [
    "folder = r\"D:\\Datasets\\ND-Contact-Lens\\LG4000\\images\"\n",
    "image_name = \"04261d1016\" + \".tiff\"\n",
    "\n",
    "image_path = os.path.join(folder, image_name)\n",
    "print(image_path)"
   ]
  },
  {
   "cell_type": "code",
   "execution_count": 55,
   "metadata": {},
   "outputs": [],
   "source": [
    "def set_img_name(origin_path, destination_path, i = \"\"):\n",
    "    file_name = os.path.basename(origin_path)\n",
    "    file_name = file_name.split(\".\")\n",
    "    file_name = file_name[0] + \"_\" + str(i) + \".\" + file_name[1]\n",
    "    destination_path = os.path.join(destination_path, file_name)\n",
    "    return destination_path\n",
    "\n",
    "def random_translation(width, height):\n",
    "    limits_x = int(width * .75 ) // 2\n",
    "    limits_y = int(height * .65 ) // 2\n",
    "\n",
    "    x = random.randint(-limits_x, limits_x)\n",
    "    y = random.randint(-limits_y, limits_y)\n",
    "\n",
    "    return x, y"
   ]
  },
  {
   "cell_type": "code",
   "execution_count": 135,
   "metadata": {},
   "outputs": [],
   "source": [
    "def translate_img(image, width, height):\n",
    "    new_image = Image.new(\"RGB\", (width, height))\n",
    "    \n",
    "    #translating the image\n",
    "    displacement_x, displacement_y = random_translation(width, height)\n",
    "    paste_position = (displacement_x, displacement_y)\n",
    "    new_image.paste(image, paste_position)\n",
    "\n",
    "    return new_image, displacement_x, displacement_y\n",
    "\n",
    "def mirror_image(image, width, height):\n",
    "    new_image, displacement_x, displacement_y = translate_img(image, width, height)\n",
    "    new_image = ImageOps.mirror(new_image)\n",
    "    displacement_x = (-displacement_x)\n",
    "    return new_image, displacement_x, displacement_y\n",
    "\n",
    "def zoom_and_crop(image):\n",
    "    # Making a random zoom factor and keeping it between the range (1,2]\n",
    "    zoom_factor = 2 - random.random()\n",
    "    \n",
    "    # Calculate the new dimensions after zooming\n",
    "    width, height = image.size\n",
    "    new_width = int(width * zoom_factor)\n",
    "    new_height = int(height * zoom_factor)\n",
    "\n",
    "    # zoom image\n",
    "    zoomed_image = image.resize((new_width, new_height))\n",
    "\n",
    "    # Calculate the coordinates for cropping\n",
    "    left = (new_width - width) / 2\n",
    "    top = (new_height - height) / 2\n",
    "    right = (new_width + width) / 2\n",
    "    bottom = (new_height + height) / 2\n",
    "\n",
    "    # Crop the image to the original resolution\n",
    "    cropped_image = zoomed_image.crop((left, top, right, bottom))\n",
    "\n",
    "    return cropped_image, zoom_factor\n",
    "\n",
    "def save_img(image, image_path, new_destination, i):\n",
    "    image_name = set_img_name(image_path, new_destination, i)\n",
    "    image.save(image_name, \"TIFF\")\n",
    "\n",
    "    return image_name.split(\"/\")[-1]"
   ]
  },
  {
   "cell_type": "code",
   "execution_count": 136,
   "metadata": {},
   "outputs": [
    {
     "name": "stdout",
     "output_type": "stream",
     "text": [
      "{'path': '04261d1016_0.tiff', 'displacement_x': -154, 'displacement_y': 106, 'zoom_factor': 1}\n",
      "{'path': '04261d1016_1.tiff', 'displacement_x': -49, 'displacement_y': 106, 'zoom_factor': 1}\n",
      "{'path': '04261d1016_2.tiff', 'displacement_x': 0, 'displacement_y': 0, 'zoom_factor': 1.2099813773601462}\n"
     ]
    }
   ],
   "source": [
    "def data_augmentation(image_path, destination_folder = \"./\"):\n",
    "    original_image = Image.open(image_path)\n",
    "    width,height = original_image.size \n",
    "\n",
    "    imgs = []\n",
    "\n",
    "\n",
    "    #Translating image\n",
    "    new_image, displacement_x, displacement_y = translate_img(original_image, width, height)\n",
    "    new_image_path = save_img(new_image, image_path, destination_folder, 0)\n",
    "    imgs.append({\"path\": new_image_path, \"displacement_x\": displacement_x, \"displacement_y\": displacement_y, \"zoom_factor\": 1})\n",
    "\n",
    "    # Mirroring one image\n",
    "    new_image, displacement_x, displacement_y = mirror_image(original_image, width, height)\n",
    "    new_image_path = save_img(new_image, image_path, destination_folder, 1)\n",
    "    imgs.append({\"path\": new_image_path, \"displacement_x\": displacement_x, \"displacement_y\": displacement_y, \"zoom_factor\": 1})\n",
    "\n",
    "    #Zooming image\n",
    "    new_image, zoom_factor = zoom_and_crop(original_image)\n",
    "    new_image_path = save_img(new_image, image_path, destination_folder, 2)\n",
    "    imgs.append({\"path\": new_image_path, \"displacement_x\": 0, \"displacement_y\": 0, \"zoom_factor\": zoom_factor})\n",
    "\n",
    "    return imgs\n",
    "\n",
    "\n",
    "imgs = data_augmentation(image_path)\n",
    "for img in imgs:\n",
    "    print(img)"
   ]
  },
  {
   "cell_type": "code",
   "execution_count": 141,
   "metadata": {},
   "outputs": [],
   "source": [
    "def read_dataset(dataset = \"LG4000\", train_verification = \"train\"):\n",
    "    assert dataset == \"LG4000\" or dataset == \"AD100\"\n",
    "    assert train_verification == \"train\" or train_verification == \"verification\"\n",
    "\n",
    "    train_verification = \"verification-subject-disjoint\" if train_verification == \"verification\" else \"train\"\n",
    "\n",
    "    data = []\n",
    "\n",
    "    csvreader = None\n",
    "    with open(r\"D:\\Datasets\\ND-Contact-Lens\\LG4000\\train.csv\", \"r\") as file:\n",
    "        csvreader = list(csv.reader(file))\n",
    "\n",
    "    csvreader.pop(0) # Removing the header line of the file\n",
    "\n",
    "    for row in csvreader:\n",
    "        data.append({\"image\": row[0], \"x\": int(row[6]), \"y\":int(row[7]), \"radius\": int(row[8])})\n",
    "\n",
    "    del csvreader\n",
    "\n",
    "    return data\n",
    "\n",
    "dataset = read_dataset()"
   ]
  },
  {
   "cell_type": "code",
   "execution_count": 143,
   "metadata": {},
   "outputs": [
    {
     "name": "stdout",
     "output_type": "stream",
     "text": [
      "3000\n"
     ]
    }
   ],
   "source": [
    "print(len(dataset))"
   ]
  },
  {
   "cell_type": "code",
   "execution_count": null,
   "metadata": {},
   "outputs": [],
   "source": [
    "#Chamar o data augmentation para cada imagem\n",
    "\n",
    "#Salvar os novos valores em um novo csv"
   ]
  }
 ],
 "metadata": {
  "kernelspec": {
   "display_name": "Python 3",
   "language": "python",
   "name": "python3"
  },
  "language_info": {
   "codemirror_mode": {
    "name": "ipython",
    "version": 3
   },
   "file_extension": ".py",
   "mimetype": "text/x-python",
   "name": "python",
   "nbconvert_exporter": "python",
   "pygments_lexer": "ipython3",
   "version": "3.11.3"
  }
 },
 "nbformat": 4,
 "nbformat_minor": 2
}
